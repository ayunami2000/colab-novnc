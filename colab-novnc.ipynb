{
  "nbformat": 4,
  "nbformat_minor": 0,
  "metadata": {
    "colab": {
      "name": "collab-novnc.ipynb",
      "provenance": []
    },
    "kernelspec": {
      "name": "python3",
      "display_name": "Python 3"
    },
    "language_info": {
      "name": "python"
    },
    "accelerator": "GPU"
  },
  "cells": [
    {
      "cell_type": "code",
      "metadata": {
        "id": "KxbZw30Njshb"
      },
      "source": [
        "%%shell\n",
        "#!/bin/bash\n",
        "apt update\n",
        "apt install -y ssh-askpass xvfb x11vnc build-essential libx11-dev libxcursor-dev libxrandr-dev libxinerama-dev libxi-dev libgl1-mesa-dev libgl1-mesa-dri fluxbox xterm\n",
        "git clone https://github.com/ayunami2000/noVNC\n",
        "./noVNC/utils/launch.sh --listen 80 &\n",
        "Xvfb -screen 0 900x720x24+32 +extension GLX &\n",
        "export DISPLAY=:0\n",
        "fluxbox &\n",
        "x11vnc -noshm -geometry 900x720 -shared -forever &\n",
        "ssh -o StrictHostKeychecking=no -R 80:localhost:80 nokey@localhost.run"
      ],
      "execution_count": null,
      "outputs": []
    }
  ]
}
